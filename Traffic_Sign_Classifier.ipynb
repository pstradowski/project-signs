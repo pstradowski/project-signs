{
 "cells": [
  {
   "cell_type": "markdown",
   "metadata": {},
   "source": [
    "# Self-Driving Car Engineer Nanodegree\n",
    "\n",
    "## Deep Learning\n",
    "\n",
    "## Project: Build a Traffic Sign Recognition Classifier\n",
    "\n",
    "In this notebook, a template is provided for you to implement your functionality in stages which is required to successfully complete this project. If additional code is required that cannot be included in the notebook, be sure that the Python code is successfully imported and included in your submission, if necessary. Sections that begin with **'Implementation'** in the header indicate where you should begin your implementation for your project. Note that some sections of implementation are optional, and will be marked with **'Optional'** in the header.\n",
    "\n",
    "In addition to implementing code, there will be questions that you must answer which relate to the project and your implementation. Each section where you will answer a question is preceded by a **'Question'** header. Carefully read each question and provide thorough answers in the following text boxes that begin with **'Answer:'**. Your project submission will be evaluated based on your answers to each of the questions and the implementation you provide.\n",
    "\n",
    ">**Note:** Code and Markdown cells can be executed using the **Shift + Enter** keyboard shortcut. In addition, Markdown cells can be edited by typically double-clicking the cell to enter edit mode."
   ]
  },
  {
   "cell_type": "markdown",
   "metadata": {},
   "source": [
    "---\n",
    "## Step 0: Load The Data"
   ]
  },
  {
   "cell_type": "code",
   "execution_count": null,
   "metadata": {
    "collapsed": false
   },
   "outputs": [],
   "source": [
    "# Load pickled data\n",
    "import pickle, cv2\n",
    "from sklearn.model_selection import train_test_split\n",
    "import numpy as np\n",
    "from tensorflow.contrib.layers import flatten\n",
    "import tensorflow as tf\n",
    "from sklearn.utils import shuffle\n",
    "import matplotlib.pyplot as plt\n",
    "import matplotlib.gridspec as gridspec\n",
    "import matplotlib.image as mpimg\n",
    "\n",
    "\n",
    "%matplotlib inline\n",
    "\n",
    "# TODO: Fill this in based on where you saved the training and testing data\n",
    "\n",
    "training_file = 'train.p'\n",
    "testing_file = 'test.p'\n",
    "\n",
    "with open(training_file, mode='rb') as f:\n",
    "    train = pickle.load(f)\n",
    "with open(testing_file, mode='rb') as f:\n",
    "    test = pickle.load(f)\n",
    "    \n",
    "X_train, y_train = train['features'], train['labels']\n",
    "X_test, y_test = test['features'], test['labels']"
   ]
  },
  {
   "cell_type": "markdown",
   "metadata": {},
   "source": [
    "---\n",
    "\n",
    "## Step 1: Dataset Summary & Exploration\n",
    "\n",
    "The pickled data is a dictionary with 4 key/value pairs:\n",
    "\n",
    "- `'features'` is a 4D array containing raw pixel data of the traffic sign images, (num examples, width, height, channels).\n",
    "- `'labels'` is a 2D array containing the label/class id of the traffic sign. The file `signnames.csv` contains id -> name mappings for each id.\n",
    "- `'sizes'` is a list containing tuples, (width, height) representing the the original width and height the image.\n",
    "- `'coords'` is a list containing tuples, (x1, y1, x2, y2) representing coordinates of a bounding box around the sign in the image. **THESE COORDINATES ASSUME THE ORIGINAL IMAGE. THE PICKLED DATA CONTAINS RESIZED VERSIONS (32 by 32) OF THESE IMAGES**\n",
    "\n",
    "Complete the basic data summary below."
   ]
  },
  {
   "cell_type": "code",
   "execution_count": null,
   "metadata": {
    "collapsed": false
   },
   "outputs": [],
   "source": [
    "# TODO: Number of training examples\n",
    "n_train = len(X_train)\n",
    "\n",
    "# TODO: Number of testing examples.\n",
    "n_test = len(X_test)\n",
    "\n",
    "# TODO: What's the shape of an traffic sign image?\n",
    "image_shape = X_train[0].shape\n",
    "\n",
    "# TODO: How many unique classes/labels there are in the dataset.\n",
    "n_classes = len(set(test['labels']))\n",
    "\n",
    "test_proportion = n_test/(n_train+n_test)\n",
    "\n",
    "print(\"Number of training examples =\", n_train)\n",
    "print(\"Number of testing examples =\", n_test)\n",
    "print(\"Total number of examples =\", n_train+n_test)\n",
    "print(\"Percentage of test data = \", test_proportion*100)\n",
    "print(\"Image data shape =\", image_shape)\n",
    "print(\"Label data shape = \", y_train.shape)\n",
    "print(\"Number of classes =\", n_classes)"
   ]
  },
  {
   "cell_type": "code",
   "execution_count": null,
   "metadata": {
    "collapsed": false
   },
   "outputs": [],
   "source": [
    "### Data exploration visualization goes here.\n",
    "### Feel free to use as many code cells as needed.\n",
    "\n",
    "\n",
    "X_train, y_train = shuffle(X_train, y_train)\n",
    "\n",
    "def plot_head(X, rows = 10, cols = 10, cmap = 'jet'):\n",
    "    fig = plt.figure(1)\n",
    "    gs = gridspec.GridSpec(rows, cols, top=1., bottom=0., right=1., left=0., hspace=0.,\n",
    "            wspace=0.)\n",
    "\n",
    "    for r in range(rows):\n",
    "        for c in range(cols):\n",
    "            ax = plt.subplot(gs[r, c])\n",
    "            ax.set_xticks([])\n",
    "            ax.set_yticks([])\n",
    "            ax.imshow(X[r+r*c], cmap = cmap)\n",
    "    plt.show()\n",
    "plot_head(X_train)"
   ]
  },
  {
   "cell_type": "code",
   "execution_count": null,
   "metadata": {
    "collapsed": false
   },
   "outputs": [],
   "source": [
    "plt.hist(y_train, bins=range(n_classes+1))\n",
    "plt.ylabel(\"Frequency\")\n",
    "plt.xlabel(\"Road sign type (label)\")\n",
    "plt.show()"
   ]
  },
  {
   "cell_type": "markdown",
   "metadata": {},
   "source": [
    "Visualize the German Traffic Signs Dataset using the pickled file(s). This is open ended, suggestions include: plotting traffic sign images, plotting the count of each sign, etc.\n",
    "\n",
    "The [Matplotlib](http://matplotlib.org/) [examples](http://matplotlib.org/examples/index.html) and [gallery](http://matplotlib.org/gallery.html) pages are a great resource for doing visualizations in Python.\n",
    "\n",
    "**NOTE:** It's recommended you start with something simple first. If you wish to do more, come back to it after you've completed the rest of the sections."
   ]
  },
  {
   "cell_type": "markdown",
   "metadata": {},
   "source": [
    "----\n",
    "\n",
    "## Step 2: Design and Test a Model Architecture\n",
    "\n",
    "Design and implement a deep learning model that learns to recognize traffic signs. Train and test your model on the [German Traffic Sign Dataset](http://benchmark.ini.rub.de/?section=gtsrb&subsection=dataset).\n",
    "\n",
    "There are various aspects to consider when thinking about this problem:\n",
    "\n",
    "- Neural network architecture\n",
    "- Play around preprocessing techniques (normalization, rgb to grayscale, etc)\n",
    "- Number of examples per label (some have more than others).\n",
    "- Generate fake data.\n",
    "\n",
    "Here is an example of a [published baseline model on this problem](http://yann.lecun.com/exdb/publis/pdf/sermanet-ijcnn-11.pdf). It's not required to be familiar with the approach used in the paper but, it's good practice to try to read papers like these.\n",
    "\n",
    "**NOTE:** The LeNet-5 implementation shown in the [classroom](https://classroom.udacity.com/nanodegrees/nd013/parts/fbf77062-5703-404e-b60c-95b78b2f3f9e/modules/6df7ae49-c61c-4bb2-a23e-6527e69209ec/lessons/601ae704-1035-4287-8b11-e2c2716217ad/concepts/d4aca031-508f-4e0b-b493-e7b706120f81) at the end of the CNN lesson is a solid starting point. You'll have to change the number of classes and possibly the preprocessing, but aside from that it's plug and play!"
   ]
  },
  {
   "cell_type": "markdown",
   "metadata": {},
   "source": [
    "### Implementation\n",
    "\n",
    "Use the code cell (or multiple code cells, if necessary) to implement the first step of your project. Once you have completed your implementation and are satisfied with the results, be sure to thoroughly answer the questions that follow."
   ]
  },
  {
   "cell_type": "code",
   "execution_count": null,
   "metadata": {
    "collapsed": false
   },
   "outputs": [],
   "source": [
    "### Preprocess the data here.\n",
    "### Feel free to use as many code cells as needed.\n",
    "images = np.vstack((train['features'], test['features']))\n",
    "labels = np.concatenate((train['labels'], test['labels']))\n",
    "\n",
    "def preprocess(image):\n",
    "    image[:,:,0] = cv2.equalizeHist(image[:,:,0])\n",
    "    image[:,:,1] = cv2.equalizeHist(image[:,:,1])\n",
    "    image[:,:,2] = cv2.equalizeHist(image[:,:,2])\n",
    "    return image\n",
    "\n",
    "images = np.array([preprocess(images[i]) for i in range(len(images))])\n",
    "print(images.shape)"
   ]
  },
  {
   "cell_type": "markdown",
   "metadata": {},
   "source": [
    "### Question 1 \n",
    "\n",
    "_Describe how you preprocessed the data. Why did you choose that technique?_"
   ]
  },
  {
   "cell_type": "markdown",
   "metadata": {},
   "source": [
    "**Answer:** On the plot above one can see that some images are darker while another are lighter, so decided to perform histogram equalization on all RGB channels.\n"
   ]
  },
  {
   "cell_type": "code",
   "execution_count": null,
   "metadata": {
    "collapsed": true
   },
   "outputs": [],
   "source": [
    "### Generate data additional data (OPTIONAL!)\n",
    "### and split the data into training/validation/testing sets here.\n",
    "### Feel free to use as many code cells as needed."
   ]
  },
  {
   "cell_type": "code",
   "execution_count": null,
   "metadata": {
    "collapsed": false
   },
   "outputs": [],
   "source": [
    "test_proportion = 0.2\n",
    "validation_proportion = 0.2\n",
    "X_1, X_test, y_1, y_test = train_test_split(\n",
    "    images, \n",
    "    labels,\n",
    "    test_size = test_proportion,\n",
    "    random_state=832289)\n",
    "X_train, X_validation, y_train, y_validation = train_test_split(\n",
    "    X_1, y_1,\n",
    "    test_size = validation_proportion/(1-test_proportion),\n",
    "    random_state=832289)\n",
    "n_train = len(X_train)\n",
    "n_valid = len(X_validation)\n",
    "n_test = len(X_test)\n",
    "print(\"Train: {}, test: {}, validation: {}\".format(n_train, n_valid, n_test))\n",
    "print(\"Train data shape: {}\".format(X_train.shape))\n",
    "\n"
   ]
  },
  {
   "cell_type": "code",
   "execution_count": null,
   "metadata": {
    "collapsed": false
   },
   "outputs": [],
   "source": [
    "freq = np.unique(y_train, return_counts = True)\n",
    "print(\"Number of classes in train: {}\".format(len(freq[0])))\n",
    "min_samples = min(freq[1])\n",
    "max_samples = max(freq[1])\n",
    "print(\"Minimum number of samples: {}\".format(min_samples))\n",
    "print(\"Maximum number of samples: {}\".format(max_samples))\n",
    "print(\"Minimum = {} % of maximum\".format(min_samples/max_samples*100))\n",
    "to_equal = max_samples-freq[1]\n",
    "print(\"To make train balanced, we have to add {} samples, median is {} per class\".format(\n",
    "    sum(to_equal), np.median(to_equal)))"
   ]
  },
  {
   "cell_type": "code",
   "execution_count": null,
   "metadata": {
    "collapsed": true
   },
   "outputs": [],
   "source": [
    "def distort(img):\n",
    "    rows, cols, _ = img.shape\n",
    "    transx, transy = np.round(np.random.uniform(size = 2)*4-2)\n",
    "    \n",
    "    angle = np.round(np.random.uniform()*30-15)\n",
    "    M = cv2.getRotationMatrix2D((cols/2, rows/2), angle, 1.0)\n",
    "    img = cv2.warpAffine(img, M, (cols, rows))\n",
    "    M = np.float32([[1, 0, transx],[0, 1, transy]])\n",
    "    img = cv2.warpAffine(img, M, (cols, rows))\n",
    "    return img\n",
    "        \n",
    "    "
   ]
  },
  {
   "cell_type": "code",
   "execution_count": null,
   "metadata": {
    "collapsed": false
   },
   "outputs": [],
   "source": [
    "X_aug = []\n",
    "y_aug = []\n",
    "\n",
    "for l in range(n_classes):\n",
    "    ndx = np.where(y_train == l)\n",
    "    trans_per_img = np.round(to_equal[l]/freq[1][l])\n",
    "    trans_per_img = trans_per_img.astype(np.int32)\n",
    "    for i in np.nditer(ndx):\n",
    "        for n in range(trans_per_img):\n",
    "            X_aug.append(distort(X_train[i]))\n",
    "            y_aug.append(l)\n",
    "X_aug = np.array(X_aug, dtype = np.float32)\n",
    "y_aug = np.array(y_aug, dtype = np.float32)\n",
    "print(X_aug.shape, y_aug.shape)"
   ]
  },
  {
   "cell_type": "code",
   "execution_count": null,
   "metadata": {
    "collapsed": false
   },
   "outputs": [],
   "source": [
    "X_train = np.vstack((X_train, X_aug))\n",
    "y_train = np.concatenate((y_train, y_aug))\n",
    "X_train, y_train = shuffle(X_train, y_train)\n",
    "print(X_train.shape, y_train.shape)"
   ]
  },
  {
   "cell_type": "code",
   "execution_count": null,
   "metadata": {
    "collapsed": false
   },
   "outputs": [],
   "source": [
    "plt.hist(y_train, bins=range(n_classes+1))\n",
    "plt.ylabel(\"Frequency\")\n",
    "plt.xlabel(\"Road sign type (label)\")\n",
    "plt.show()"
   ]
  },
  {
   "cell_type": "markdown",
   "metadata": {},
   "source": [
    "### Question 2\n",
    "\n",
    "_Describe how you set up the training, validation and testing data for your model. **Optional**: If you generated additional data, how did you generate the data? Why did you generate the data? What are the differences in the new dataset (with generated data) from the original dataset?_"
   ]
  },
  {
   "cell_type": "markdown",
   "metadata": {},
   "source": [
    "**Answer:** I decided to split the data into three sets: trainig 60% validation 20% test 20%\n",
    "The histograms show that data is unbalanced - it could have an impact on prediction accuracy of classes with low number of samples, however I did not check how big. \n",
    "I added samples for under represented classes, it had no effect on overall accuracy, however the model required less epochs to yield descent results.\n"
   ]
  },
  {
   "cell_type": "code",
   "execution_count": null,
   "metadata": {
    "collapsed": true
   },
   "outputs": [],
   "source": [
    "### Define your architecture here.\n",
    "### Feel free to use as many code cells as needed."
   ]
  },
  {
   "cell_type": "code",
   "execution_count": null,
   "metadata": {
    "collapsed": false
   },
   "outputs": [],
   "source": [
    "def fully_connected(layer, out_connections, mean = 0, stddev = 0.1, \n",
    "                    in_connections = None, activation = 'relu', \n",
    "                    dropout = False):\n",
    "    \n",
    "    if not in_connections:\n",
    "        layer_shape = layer.get_shape().as_list()\n",
    "        in_connections = layer_shape[1]\n",
    "    weights = tf.Variable(tf.truncated_normal([in_connections, out_connections], \n",
    "                                              mean = mean, stddev = stddev))\n",
    "    biases = tf.Variable(tf.zeros(out_connections))\n",
    "    layer = tf.matmul(layer, weights) + biases\n",
    "    \n",
    "    if activation == 'relu':\n",
    "        layer = tf.nn.relu(layer)\n",
    "    elif activation == 'tanh':\n",
    "         layer = tf.tanh(layer)\n",
    "    if dropout:\n",
    "        layer = tf.nn.dropout(layer, keep_prob)\n",
    "    return layer\n",
    "\n",
    "\n",
    "\n",
    "def MyLeNet(x):    \n",
    "    # Hyperparameters\n",
    "    mu = 0\n",
    "    sigma = 0.1\n",
    "    \n",
    "    #Convert to gray\n",
    "    x = tf.image.rgb_to_grayscale(x, name='gray')\n",
    "    x /= 255.\n",
    "        \n",
    "    # Layer 1: Convolutional.\n",
    "    out_filters = 32\n",
    "    l1w = tf.Variable(tf.truncated_normal([5, 5, 1, out_filters], mean = mu, stddev = sigma))\n",
    "    l1b = tf.Variable(tf.zeros(out_filters))\n",
    "    strides = [1, 1, 1, 1]\n",
    "    padding = 'VALID'\n",
    "    lenet = tf.nn.conv2d(x, l1w, strides, padding) + l1b\n",
    "    print(lenet.get_shape().as_list())\n",
    "  \n",
    "    # Activation.\n",
    "    \n",
    "    lenet = tf.tanh(lenet)\n",
    "\n",
    "    # Pooling. \n",
    "    ksize = [1, 2, 2, 1]\n",
    "    strides = [1, 2, 2, 1]\n",
    "    lenet = tf.nn.max_pool(lenet, ksize, strides, padding)\n",
    "    print(lenet.get_shape().as_list())\n",
    "   \n",
    "    # Convolutional #2\n",
    "    layer_shape = lenet.get_shape().as_list()\n",
    "    in_filters = layer_shape[3]\n",
    "    out_filters = 64\n",
    "    \n",
    "    l2w = tf.Variable(tf.truncated_normal([5, 5, in_filters ,out_filters], mean = mu, stddev = sigma))\n",
    "    l2b = tf.Variable(tf.zeros(out_filters))\n",
    "    strides = [1, 1, 1, 1]\n",
    "    padding = 'VALID'\n",
    "    lenet = tf.nn.conv2d(lenet, l2w, strides, padding) + l2b\n",
    "    print(lenet.get_shape().as_list())\n",
    "    \n",
    "    #  Activation.\n",
    "    lenet = tf.tanh(lenet)\n",
    "\n",
    "    # Pooling. \n",
    "    ksize = [1, 2, 2, 1]\n",
    "    strides = [1, 2, 2, 1]\n",
    "    lenet = tf.nn.max_pool(lenet, ksize, strides, padding)\n",
    "    print(lenet.get_shape().as_list())\n",
    "\n",
    "    # Flatten. \n",
    "    lenet = flatten(lenet)\n",
    "    print(lenet.get_shape().as_list())\n",
    "    \n",
    "    lenet = fully_connected(lenet, out_connections = 512, \n",
    "                            mean = mu, stddev = sigma, dropout = True)\n",
    "    print(lenet.get_shape().as_list())\n",
    "    \n",
    "    lenet = fully_connected(lenet, out_connections = 128, \n",
    "                           mean = mu, stddev = sigma, dropout = True)\n",
    "    print(lenet.get_shape().as_list())\n",
    "    \n",
    "    logits = fully_connected(lenet, out_connections = n_classes,\n",
    "                            mean = mu, stddev = sigma, activation = False)\n",
    "    return logits"
   ]
  },
  {
   "cell_type": "code",
   "execution_count": null,
   "metadata": {
    "collapsed": false
   },
   "outputs": [],
   "source": [
    "x = tf.placeholder(tf.float32, (None, 32, 32, 3))\n",
    "y = tf.placeholder(tf.int32, (None))\n",
    "one_hot_y = tf.one_hot(y, n_classes)\n",
    "rate = 0.001\n",
    "keep_prob = tf.placeholder(tf.float32)\n",
    "\n",
    "logits = MyLeNet(x)\n",
    "cross_entropy = tf.nn.softmax_cross_entropy_with_logits(logits, one_hot_y)\n",
    "loss_operation = tf.reduce_mean(cross_entropy)\n",
    "optimizer = tf.train.AdamOptimizer(learning_rate = rate)\n",
    "training_operation = optimizer.minimize(loss_operation)"
   ]
  },
  {
   "cell_type": "code",
   "execution_count": null,
   "metadata": {
    "collapsed": false
   },
   "outputs": [],
   "source": [
    "correct_prediction = tf.equal(tf.argmax(logits, 1), tf.argmax(one_hot_y, 1))\n",
    "accuracy_operation = tf.reduce_mean(tf.cast(correct_prediction, tf.float32))\n",
    "saver = tf.train.Saver()\n",
    "\n",
    "def evaluate(X_data, y_data):\n",
    "    num_examples = len(X_data)\n",
    "    total_accuracy = 0\n",
    "    total_loss = 0\n",
    "    sess = tf.get_default_session()\n",
    "    for offset in range(0, num_examples, BATCH_SIZE):\n",
    "        batch_x, batch_y = X_data[offset:offset+BATCH_SIZE], y_data[offset:offset+BATCH_SIZE]\n",
    "        accuracy, loss = sess.run([accuracy_operation, loss_operation],\n",
    "                                  feed_dict={x: batch_x, y: batch_y, keep_prob: 1})\n",
    "        total_accuracy += (accuracy * len(batch_x))\n",
    "        total_loss += (loss * len(batch_x))\n",
    "        \n",
    "    total_accuracy /=num_examples\n",
    "    total_loss /=num_examples\n",
    "    return (total_accuracy, total_loss)"
   ]
  },
  {
   "cell_type": "code",
   "execution_count": null,
   "metadata": {
    "collapsed": false
   },
   "outputs": [],
   "source": [
    "EPOCHS = 100\n",
    "BATCH_SIZE = 128\n",
    "\n",
    "with tf.Session() as sess:\n",
    "    sess.run(tf.global_variables_initializer())\n",
    "    num_examples = len(X_train)\n",
    "    \n",
    "    print(\"Training...\")\n",
    "    print()\n",
    "    for i in range(EPOCHS):\n",
    "        #X_train, y_train = shuffle(X_train, y_train)\n",
    "        for offset in range(0, num_examples, BATCH_SIZE):\n",
    "            end = offset + BATCH_SIZE\n",
    "            batch_x, batch_y = X_train[offset:end], y_train[offset:end]\n",
    "            sess.run(training_operation, feed_dict={x: batch_x, y: batch_y, keep_prob: 0.5})\n",
    "            \n",
    "        validation_accuracy, validation_loss = evaluate(X_validation, y_validation)\n",
    "        print(\"EPOCH {} ...\".format(i+1))\n",
    "        print(\"Validation Accuracy = {:.3f}\".format(validation_accuracy))\n",
    "        print(\"Validation Loss = {:.3f}\".format(validation_loss))\n",
    "        print()\n",
    "        \n",
    "    saver.save(sess, 'signs')\n",
    "    print(\"Model saved\")"
   ]
  },
  {
   "cell_type": "markdown",
   "metadata": {},
   "source": [
    "### Question 3\n",
    "\n",
    "_What does your final architecture look like? (Type of model, layers, sizes, connectivity, etc.)  For reference on how to build a deep neural network using TensorFlow, see [Deep Neural Network in TensorFlow\n",
    "](https://classroom.udacity.com/nanodegrees/nd013/parts/fbf77062-5703-404e-b60c-95b78b2f3f9e/modules/6df7ae49-c61c-4bb2-a23e-6527e69209ec/lessons/b516a270-8600-4f93-a0a3-20dfeabe5da6/concepts/83a3a2a2-a9bd-4b7b-95b0-eb924ab14432) from the classroom._\n"
   ]
  },
  {
   "cell_type": "markdown",
   "metadata": {},
   "source": [
    "**Answer:** I tried multiple CNNs to achieve good results and ended up with a solution inspired by Sameh Mohamed: http://sdc.autojazari.com/traffic-sign-detection-using-convnets/ : \n",
    "* 1st level: Convert to grayscale\n",
    "* 2nd level: Convolutional layer with 32 filters + pooling + tanh activation\n",
    "* 3rd level: Convolutional layer with 64 filters + pooling + tanh activation\n",
    "* 4rd level: Fully connected with 512 outputs + dropout 0.5 + relu activation\n",
    "* 5th level: Fully connected with 128 outputs + dropout 0.5 + relu activation\n",
    "* 6th level: output layer to calculate softmax\n"
   ]
  },
  {
   "cell_type": "code",
   "execution_count": null,
   "metadata": {
    "collapsed": true
   },
   "outputs": [],
   "source": [
    "### Train your model here.\n",
    "### Feel free to use as many code cells as needed."
   ]
  },
  {
   "cell_type": "code",
   "execution_count": null,
   "metadata": {
    "collapsed": false
   },
   "outputs": [],
   "source": [
    "with tf.Session() as sess:\n",
    "    saver.restore(sess, tf.train.latest_checkpoint('.'))\n",
    "\n",
    "    test_accuracy, _ = evaluate(X_test, y_test)\n",
    "    print(\"Test Accuracy = {:.3f}\".format(test_accuracy))"
   ]
  },
  {
   "cell_type": "markdown",
   "metadata": {},
   "source": [
    "### Question 4\n",
    "\n",
    "_How did you train your model? (Type of optimizer, batch size, epochs, hyperparameters, etc.)_\n"
   ]
  },
  {
   "cell_type": "markdown",
   "metadata": {},
   "source": [
    "**Answer:** I found that batch size of 128 gives good results together with learning rate 1e-3.\n",
    "\n",
    "Depending on the data and network architecture, I exeperimented with multiple epochs in range from 20 to 200 and ended with 40 epochs.\n",
    "\n",
    "For the optimizer, I checked ordinary gradient descent vs Adam and Adam won."
   ]
  },
  {
   "cell_type": "markdown",
   "metadata": {},
   "source": [
    "### Question 5\n",
    "\n",
    "\n",
    "_What approach did you take in coming up with a solution to this problem? It may have been a process of trial and error, in which case, outline the steps you took to get to the final solution and why you chose those steps. Perhaps your solution involved an already well known implementation or architecture. In this case, discuss why you think this is suitable for the current problem._"
   ]
  },
  {
   "cell_type": "markdown",
   "metadata": {},
   "source": [
    "**Answer:** I went through this project using 2 paths:\n",
    "* Tweak LeNet to see how it will impact the accuracy and convergence time - this approach gave me 98% of accuracy\n",
    "* Search for another architectures: the one from Yann LeCun paper did not work as expected, probably due to my mistakes. Checked buch of another approaches to CNN architecture and eventually found the one developed by Sameh Mohamed - it was quite similar to my experiments with LeNet in convolution layers, however he used bigger fully connected layeers. I decided to go with this architecture and tweak it accordingly - change relu for tanh for convolutional layers etc."
   ]
  },
  {
   "cell_type": "markdown",
   "metadata": {},
   "source": [
    "---\n",
    "\n",
    "## Step 3: Test a Model on New Images\n",
    "\n",
    "Take several pictures of traffic signs that you find on the web or around you (at least five), and run them through your classifier on your computer to produce example results. The classifier might not recognize some local signs but it could prove interesting nonetheless.\n",
    "\n",
    "You may find `signnames.csv` useful as it contains mappings from the class id (integer) to the actual sign name."
   ]
  },
  {
   "cell_type": "markdown",
   "metadata": {},
   "source": [
    "### Implementation\n",
    "\n",
    "Use the code cell (or multiple code cells, if necessary) to implement the first step of your project. Once you have completed your implementation and are satisfied with the results, be sure to thoroughly answer the questions that follow."
   ]
  },
  {
   "cell_type": "code",
   "execution_count": null,
   "metadata": {
    "collapsed": true
   },
   "outputs": [],
   "source": [
    "### Load the images and plot them here.\n",
    "### Feel free to use as many code cells as needed."
   ]
  },
  {
   "cell_type": "markdown",
   "metadata": {},
   "source": [
    "### Question 6\n",
    "\n",
    "_Choose five candidate images of traffic signs and provide them in the report. Are there any particular qualities of the image(s) that might make classification difficult? It could be helpful to plot the images in the notebook._\n",
    "\n"
   ]
  },
  {
   "cell_type": "markdown",
   "metadata": {},
   "source": [
    "**Answer:**"
   ]
  },
  {
   "cell_type": "code",
   "execution_count": null,
   "metadata": {
    "collapsed": true
   },
   "outputs": [],
   "source": [
    "### Run the predictions here.\n",
    "### Feel free to use as many code cells as needed."
   ]
  },
  {
   "cell_type": "markdown",
   "metadata": {},
   "source": [
    "### Question 7\n",
    "\n",
    "_Is your model able to perform equally well on captured pictures when compared to testing on the dataset? The simplest way to do this check the accuracy of the predictions. For example, if the model predicted 1 out of 5 signs correctly, it's 20% accurate._\n",
    "\n",
    "_**NOTE:** You could check the accuracy manually by using `signnames.csv` (same directory). This file has a mapping from the class id (0-42) to the corresponding sign name. So, you could take the class id the model outputs, lookup the name in `signnames.csv` and see if it matches the sign from the image._\n"
   ]
  },
  {
   "cell_type": "markdown",
   "metadata": {},
   "source": [
    "**Answer:**"
   ]
  },
  {
   "cell_type": "code",
   "execution_count": null,
   "metadata": {
    "collapsed": true
   },
   "outputs": [],
   "source": [
    "### Visualize the softmax probabilities here.\n",
    "### Feel free to use as many code cells as needed."
   ]
  },
  {
   "cell_type": "markdown",
   "metadata": {},
   "source": [
    "### Question 8\n",
    "\n",
    "*Use the model's softmax probabilities to visualize the **certainty** of its predictions, [`tf.nn.top_k`](https://www.tensorflow.org/versions/r0.12/api_docs/python/nn.html#top_k) could prove helpful here. Which predictions is the model certain of? Uncertain? If the model was incorrect in its initial prediction, does the correct prediction appear in the top k? (k should be 5 at most)*\n",
    "\n",
    "`tf.nn.top_k` will return the values and indices (class ids) of the top k predictions. So if k=3, for each sign, it'll return the 3 largest probabilities (out of a possible 43) and the correspoding class ids.\n",
    "\n",
    "Take this numpy array as an example:\n",
    "\n",
    "```\n",
    "# (5, 6) array\n",
    "a = np.array([[ 0.24879643,  0.07032244,  0.12641572,  0.34763842,  0.07893497,\n",
    "         0.12789202],\n",
    "       [ 0.28086119,  0.27569815,  0.08594638,  0.0178669 ,  0.18063401,\n",
    "         0.15899337],\n",
    "       [ 0.26076848,  0.23664738,  0.08020603,  0.07001922,  0.1134371 ,\n",
    "         0.23892179],\n",
    "       [ 0.11943333,  0.29198961,  0.02605103,  0.26234032,  0.1351348 ,\n",
    "         0.16505091],\n",
    "       [ 0.09561176,  0.34396535,  0.0643941 ,  0.16240774,  0.24206137,\n",
    "         0.09155967]])\n",
    "```\n",
    "\n",
    "Running it through `sess.run(tf.nn.top_k(tf.constant(a), k=3))` produces:\n",
    "\n",
    "```\n",
    "TopKV2(values=array([[ 0.34763842,  0.24879643,  0.12789202],\n",
    "       [ 0.28086119,  0.27569815,  0.18063401],\n",
    "       [ 0.26076848,  0.23892179,  0.23664738],\n",
    "       [ 0.29198961,  0.26234032,  0.16505091],\n",
    "       [ 0.34396535,  0.24206137,  0.16240774]]), indices=array([[3, 0, 5],\n",
    "       [0, 1, 4],\n",
    "       [0, 5, 1],\n",
    "       [1, 3, 5],\n",
    "       [1, 4, 3]], dtype=int32))\n",
    "```\n",
    "\n",
    "Looking just at the first row we get `[ 0.34763842,  0.24879643,  0.12789202]`, you can confirm these are the 3 largest probabilities in `a`. You'll also notice `[3, 0, 5]` are the corresponding indices."
   ]
  },
  {
   "cell_type": "markdown",
   "metadata": {},
   "source": [
    "**Answer:**"
   ]
  },
  {
   "cell_type": "markdown",
   "metadata": {},
   "source": [
    "> **Note**: Once you have completed all of the code implementations and successfully answered each question above, you may finalize your work by exporting the iPython Notebook as an HTML document. You can do this by using the menu above and navigating to  \\n\",\n",
    "    \"**File -> Download as -> HTML (.html)**. Include the finished document along with this notebook as your submission."
   ]
  },
  {
   "cell_type": "code",
   "execution_count": null,
   "metadata": {
    "collapsed": true
   },
   "outputs": [],
   "source": []
  }
 ],
 "metadata": {
  "anaconda-cloud": {},
  "environment": {
   "channels": [
    "defaults"
   ],
   "dependencies": [
    "cycler=0.10.0=py35_0",
    "dbus=1.10.10=0",
    "decorator=4.0.10=py35_1",
    "entrypoints=0.2.2=py35_0",
    "expat=2.1.0=0",
    "fontconfig=2.12.1=0",
    "freetype=2.5.5=1",
    "glib=2.50.2=0",
    "gst-plugins-base=1.8.0=0",
    "gstreamer=1.8.0=0",
    "icu=54.1=0",
    "ipykernel=4.5.2=py35_0",
    "ipython=5.1.0=py35_0",
    "ipython_genutils=0.1.0=py35_0",
    "jinja2=2.8.1=py35_0",
    "jpeg=8d=2",
    "jsonschema=2.5.1=py35_0",
    "jupyter=1.0.0=py35_3",
    "jupyter_client=4.4.0=py35_0",
    "jupyter_console=5.0.0=py35_0",
    "jupyter_core=4.2.1=py35_0",
    "libffi=3.2.1=1",
    "libgcc=5.2.0=0",
    "libgfortran=3.0.0=1",
    "libiconv=1.14=0",
    "libpng=1.6.27=0",
    "libsodium=1.0.10=0",
    "libxcb=1.12=1",
    "libxml2=2.9.4=0",
    "markupsafe=0.23=py35_2",
    "matplotlib=1.5.3=np111py35_1",
    "menpo::ipywidgets=5.1.5=py35_0",
    "menpo::opencv3=3.1.0=py35_0",
    "menpo::widgetsnbextension=1.2.3=py35_1",
    "mistune=0.7.3=py35_0",
    "mkl=11.3.3=0",
    "nbconvert=4.2.0=py35_0",
    "nbformat=4.2.0=py35_0",
    "notebook=4.3.0=py35_0",
    "numpy=1.11.2=py35_0",
    "openssl=1.0.2j=0",
    "pandas=0.19.2=np111py35_1",
    "path.py=9.0.1=py35_0",
    "pcre=8.39=1",
    "pexpect=4.0.1=py35_0",
    "pickleshare=0.7.4=py35_0",
    "pip=9.0.1=py35_1",
    "prompt_toolkit=1.0.9=py35_0",
    "ptyprocess=0.5.1=py35_0",
    "pygments=2.1.3=py35_0",
    "pyparsing=2.1.4=py35_0",
    "pyqt=5.6.0=py35_1",
    "python=3.5.2=0",
    "python-dateutil=2.6.0=py35_0",
    "pytz=2016.10=py35_0",
    "pyzmq=16.0.2=py35_0",
    "qt=5.6.2=2",
    "qtconsole=4.2.1=py35_1",
    "readline=6.2=2",
    "scikit-learn=0.18.1=np111py35_0",
    "scipy=0.18.1=np111py35_0",
    "setuptools=27.2.0=py35_0",
    "simplegeneric=0.8.1=py35_1",
    "sip=4.18=py35_0",
    "six=1.10.0=py35_0",
    "sqlite=3.13.0=0",
    "terminado=0.6=py35_0",
    "tk=8.5.18=0",
    "tornado=4.4.2=py35_0",
    "traitlets=4.3.1=py35_0",
    "wcwidth=0.1.7=py35_0",
    "wheel=0.29.0=py35_0",
    "xz=5.2.2=1",
    "zeromq=4.1.5=0",
    "zlib=1.2.8=3",
    {
     "pip": [
      "ipython-genutils==0.1.0",
      "jupyter-client==4.4.0",
      "jupyter-console==5.0.0",
      "jupyter-core==4.2.1",
      "prompt-toolkit==1.0.9",
      "protobuf==3.1.0.post1",
      "tensorflow==0.12.1"
     ]
    }
   ],
   "name": "CarND-Traffic-Sign-Classifier-Project",
   "prefix": "/home/pawel/anaconda3/envs/CarND-Traffic-Sign-Classifier-Project"
  },
  "kernelspec": {
   "display_name": "Python 3",
   "language": "python",
   "name": "python3"
  },
  "language_info": {
   "codemirror_mode": {
    "name": "ipython",
    "version": 3
   },
   "file_extension": ".py",
   "mimetype": "text/x-python",
   "name": "python",
   "nbconvert_exporter": "python",
   "pygments_lexer": "ipython3",
   "version": "3.5.2"
  },
  "widgets": {
   "state": {},
   "version": "1.1.2"
  }
 },
 "nbformat": 4,
 "nbformat_minor": 1
}
